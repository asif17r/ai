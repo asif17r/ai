{
 "cells": [
  {
   "cell_type": "code",
   "execution_count": null,
   "id": "da5450b6",
   "metadata": {},
   "outputs": [],
   "source": [
    "# Experiment-1: Design a Customize Convolutional Neural Network (CNN) for Handwritten Digit Classification\n",
    "# Import necessary libraries\n",
    "import tensorflow as tf\n",
    "from tensorflow.keras import layers, models\n",
    "from tensorflow.keras.datasets import mnist\n",
    "from tensorflow.keras.preprocessing.image import ImageDataGenerator\n",
    "import matplotlib.pyplot as plt\n",
    "\n",
    "# Load and preprocess the MNIST dataset\n",
    "(x_train, y_train), (x_test, y_test) = mnist.load_data()\n",
    "x_train = x_train.reshape(-1, 28, 28, 1).astype('float32') / 255\n",
    "x_test = x_test.reshape(-1, 28, 28, 1).astype('float32') / 255\n",
    "\n",
    "# Data augmentation\n",
    "data_gen = ImageDataGenerator(rotation_range=10, width_shift_range=0.1, height_shift_range=0.1)\n",
    "data_gen.fit(x_train)\n",
    "\n",
    "# Define the CNN model\n",
    "def create_cnn_model():\n",
    "    model = models.Sequential([\n",
    "        layers.Conv2D(32, (3, 3), activation='relu', input_shape=(28, 28, 1)),\n",
    "        layers.MaxPooling2D((3, 3), strides=(1, 1)),\n",
    "        layers.Conv2D(64, (3, 3), activation='relu'),\n",
    "        layers.MaxPooling2D((3, 3), strides=(1, 1)),\n",
    "        layers.Flatten(),\n",
    "        layers.Dense(64, activation='relu'),\n",
    "        layers.Dense(10, activation='softmax')\n",
    "    ])\n",
    "    return model\n",
    "\n",
    "# Compile and train the model on original and augmented data\n",
    "original_model = create_cnn_model()\n",
    "original_model.compile(optimizer='adam', loss='sparse_categorical_crossentropy', metrics=['accuracy'])\n",
    "original_model.fit(x_train, y_train, epochs=5, validation_data=(x_test, y_test))\n",
    "\n",
    "augmented_model = create_cnn_model()\n",
    "augmented_model.compile(optimizer='adam', loss='sparse_categorical_crossentropy', metrics=['accuracy'])\n",
    "augmented_model.fit(data_gen.flow(x_train, y_train), epochs=5, validation_data=(x_test, y_test))\n",
    "\n",
    "# Evaluate and compare the models\n",
    "original_accuracy = original_model.evaluate(x_test, y_test, verbose=0)[1]\n",
    "augmented_accuracy = augmented_model.evaluate(x_test, y_test, verbose=0)[1]\n",
    "\n",
    "# Plot the comparison\n",
    "plt.bar(['Original', 'Augmented'], [original_accuracy, augmented_accuracy])\n",
    "plt.title('Accuracy Comparison')\n",
    "plt.ylabel('Accuracy')\n",
    "plt.show()"
   ]
  }
 ],
 "metadata": {
  "language_info": {
   "name": "python"
  }
 },
 "nbformat": 4,
 "nbformat_minor": 5
}
