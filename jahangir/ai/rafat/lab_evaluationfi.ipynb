{
  "nbformat": 4,
  "nbformat_minor": 0,
  "metadata": {
    "colab": {
      "provenance": []
    },
    "kernelspec": {
      "name": "python3",
      "display_name": "Python 3"
    },
    "language_info": {
      "name": "python"
    }
  },
  "cells": [
    {
      "cell_type": "markdown",
      "metadata": {
        "id": "view-in-github"
      },
      "source": [
        "<a href=\"https://colab.research.google.com/github/ForhanShahriarFahim/Artificial-Intelligence-Lab/blob/master/3_Simple_DNN(Assignment_3).ipynb\" target=\"_parent\"><img src=\"https://colab.research.google.com/assets/colab-badge.svg\" alt=\"Open In Colab\"/></a>"
      ]
    },
    {
      "cell_type": "code",
      "source": [
        "import numpy as np\n",
        "import matplotlib.pyplot as plt\n",
        "from tensorflow.keras.layers import Input, Dense, Activation\n",
        "from tensorflow.keras.models import Model\n",
        "from tensorflow.keras import metrics\n",
        "import tensorflow as tf\n",
        "from sklearn.metrics import mean_squared_error"
      ],
      "metadata": {
        "id": "mIrPC6cj5bja"
      },
      "execution_count": null,
      "outputs": []
    },
    {
      "cell_type": "markdown",
      "source": [
        "### **y = 5x^3-10x^2-20x+10**"
      ],
      "metadata": {
        "id": "akSGNQFPypCv"
      }
    },
    {
      "cell_type": "code",
      "source": [
        "def y_value_calc(x):\n",
        "  return 5 * x**3 - 10 * x**2 - 20 * x + 10"
      ],
      "metadata": {
        "id": "AYRn1WhU5sEa"
      },
      "execution_count": null,
      "outputs": []
    },
    {
      "cell_type": "markdown",
      "source": [
        "### **Building the Model**"
      ],
      "metadata": {
        "id": "EnENBXZozDUm"
      }
    },
    {
      "cell_type": "code",
      "source": [
        "def dnn_model():\n",
        "  inputs = Input((1,))\n",
        "  hidden_layer1 = Dense(32, activation='relu')(inputs)\n",
        "  hidden_layer2 = Dense(64, activation='relu')(hidden_layer1)\n",
        "  hidden_layer3 = Dense(128, activation='relu')(hidden_layer2)\n",
        "\n",
        "  outputs = Dense(1, name = 'Output_Layer')(hidden_layer3)\n",
        "\n",
        "  model = Model(inputs, outputs, name = 'DNN_Model')\n",
        "  return model"
      ],
      "metadata": {
        "id": "9R8nGqNN0t5n"
      },
      "execution_count": null,
      "outputs": []
    },
    {
      "cell_type": "markdown",
      "source": [
        "### Creating Dataset"
      ],
      "metadata": {
        "id": "wDnVFo_Gz7mB"
      }
    },
    {
      "cell_type": "code",
      "source": [
        "def value_generate(data):\n",
        "  x = np.random.randint(-20, 20, data, dtype=int)\n",
        "  y = y_value_calc(x)\n",
        "  return x, y"
      ],
      "metadata": {
        "id": "OKA2tUpN6RKT"
      },
      "execution_count": null,
      "outputs": []
    },
    {
      "cell_type": "markdown",
      "source": [
        "### Normalize function for data between [-1,1]"
      ],
      "metadata": {
        "id": "AmuUPE4k0ES-"
      }
    },
    {
      "cell_type": "code",
      "source": [
        "def normalize(values):\n",
        "  maximum = np.max(values)\n",
        "  minimum = np.min(values)\n",
        "\n",
        "  return (2 * (values - minimum) / (maximum - minimum)) - 1"
      ],
      "metadata": {
        "id": "UaJ4PG8jp0YC"
      },
      "execution_count": null,
      "outputs": []
    },
    {
      "cell_type": "markdown",
      "source": [
        "### Creating training, validation and test split"
      ],
      "metadata": {
        "id": "fQfZ94Rb0StG"
      }
    },
    {
      "cell_type": "code",
      "source": [
        "x, y = value_generate(10000)\n",
        "\n",
        "# Performing Normalization\n",
        "x_data = normalize(x)\n",
        "y_data = normalize(y)\n",
        "\n",
        "\n",
        "data_length = len(x_data)\n",
        "#Test\n",
        "x_test, y_test = x_data[:int(data_length * 0.05)], y_data[:int(data_length * 0.05)]\n",
        "#Validation\n",
        "x_validation, y_validation = x_data[int(data_length * 0.05):int(data_length * 0.1)], y_data[int(data_length * 0.05):int(data_length * 0.1)]\n",
        "#Train\n",
        "x_train, y_train = x_data[int(data_length * 0.1):], y_data[int(data_length * 0.1):]"
      ],
      "metadata": {
        "id": "Yw3VPdtc3shd"
      },
      "execution_count": null,
      "outputs": []
    },
    {
      "cell_type": "code",
      "source": [
        "print(f\"Test set size: {len(x_test)}\")\n",
        "print(f\"Validation set size: {len(x_validation)}\")\n",
        "print(f\"Training set size: {len(x_train)}\")\n"
      ],
      "metadata": {
        "colab": {
          "base_uri": "https://localhost:8080/"
        },
        "id": "SyFKep_k3-ZU",
        "outputId": "da447ae5-dfe2-4749-daa8-fb4d159fb09f"
      },
      "execution_count": null,
      "outputs": [
        {
          "output_type": "stream",
          "name": "stdout",
          "text": [
            "Test set size: 500\n",
            "Validation set size: 500\n",
            "Training set size: 9000\n"
          ]
        }
      ]
    },
    {
      "cell_type": "markdown",
      "source": [
        "# Model Train"
      ],
      "metadata": {
        "id": "OLzK6np30iNs"
      }
    },
    {
      "cell_type": "code",
      "source": [
        "model = dnn_model()\n",
        "model.summary()\n",
        "model.compile(optimizer=tf.keras.optimizers.Adam(learning_rate=1e-3),loss='mean_squared_error',metrics=[metrics.R2Score(name='accuracy')])\n",
        "fitted_model = model.fit(x_train, y_train, epochs=10, validation_data=(x_validation, y_validation))\n",
        "\n",
        "history = fitted_model.history\n"
      ],
      "metadata": {
        "colab": {
          "base_uri": "https://localhost:8080/",
          "height": 652
        },
        "id": "2peKcviU-Z6x",
        "outputId": "dfb4e4a2-b061-4908-dbb4-d40eb0cf93c6"
      },
      "execution_count": null,
      "outputs": [
        {
          "output_type": "display_data",
          "data": {
            "text/plain": [
              "\u001b[1mModel: \"DNN_Model\"\u001b[0m\n"
            ],
            "text/html": [
              "<pre style=\"white-space:pre;overflow-x:auto;line-height:normal;font-family:Menlo,'DejaVu Sans Mono',consolas,'Courier New',monospace\"><span style=\"font-weight: bold\">Model: \"DNN_Model\"</span>\n",
              "</pre>\n"
            ]
          },
          "metadata": {}
        },
        {
          "output_type": "display_data",
          "data": {
            "text/plain": [
              "┏━━━━━━━━━━━━━━━━━━━━━━━━━━━━━━━━━━━━━━┳━━━━━━━━━━━━━━━━━━━━━━━━━━━━━┳━━━━━━━━━━━━━━━━━┓\n",
              "┃\u001b[1m \u001b[0m\u001b[1mLayer (type)                        \u001b[0m\u001b[1m \u001b[0m┃\u001b[1m \u001b[0m\u001b[1mOutput Shape               \u001b[0m\u001b[1m \u001b[0m┃\u001b[1m \u001b[0m\u001b[1m        Param #\u001b[0m\u001b[1m \u001b[0m┃\n",
              "┡━━━━━━━━━━━━━━━━━━━━━━━━━━━━━━━━━━━━━━╇━━━━━━━━━━━━━━━━━━━━━━━━━━━━━╇━━━━━━━━━━━━━━━━━┩\n",
              "│ input_layer (\u001b[38;5;33mInputLayer\u001b[0m)             │ (\u001b[38;5;45mNone\u001b[0m, \u001b[38;5;34m1\u001b[0m)                   │               \u001b[38;5;34m0\u001b[0m │\n",
              "├──────────────────────────────────────┼─────────────────────────────┼─────────────────┤\n",
              "│ dense (\u001b[38;5;33mDense\u001b[0m)                        │ (\u001b[38;5;45mNone\u001b[0m, \u001b[38;5;34m32\u001b[0m)                  │              \u001b[38;5;34m64\u001b[0m │\n",
              "├──────────────────────────────────────┼─────────────────────────────┼─────────────────┤\n",
              "│ dense_1 (\u001b[38;5;33mDense\u001b[0m)                      │ (\u001b[38;5;45mNone\u001b[0m, \u001b[38;5;34m64\u001b[0m)                  │           \u001b[38;5;34m2,112\u001b[0m │\n",
              "├──────────────────────────────────────┼─────────────────────────────┼─────────────────┤\n",
              "│ dense_2 (\u001b[38;5;33mDense\u001b[0m)                      │ (\u001b[38;5;45mNone\u001b[0m, \u001b[38;5;34m128\u001b[0m)                 │           \u001b[38;5;34m8,320\u001b[0m │\n",
              "├──────────────────────────────────────┼─────────────────────────────┼─────────────────┤\n",
              "│ Output_Layer (\u001b[38;5;33mDense\u001b[0m)                 │ (\u001b[38;5;45mNone\u001b[0m, \u001b[38;5;34m1\u001b[0m)                   │             \u001b[38;5;34m129\u001b[0m │\n",
              "└──────────────────────────────────────┴─────────────────────────────┴─────────────────┘\n"
            ],
            "text/html": [
              "<pre style=\"white-space:pre;overflow-x:auto;line-height:normal;font-family:Menlo,'DejaVu Sans Mono',consolas,'Courier New',monospace\">┏━━━━━━━━━━━━━━━━━━━━━━━━━━━━━━━━━━━━━━┳━━━━━━━━━━━━━━━━━━━━━━━━━━━━━┳━━━━━━━━━━━━━━━━━┓\n",
              "┃<span style=\"font-weight: bold\"> Layer (type)                         </span>┃<span style=\"font-weight: bold\"> Output Shape                </span>┃<span style=\"font-weight: bold\">         Param # </span>┃\n",
              "┡━━━━━━━━━━━━━━━━━━━━━━━━━━━━━━━━━━━━━━╇━━━━━━━━━━━━━━━━━━━━━━━━━━━━━╇━━━━━━━━━━━━━━━━━┩\n",
              "│ input_layer (<span style=\"color: #0087ff; text-decoration-color: #0087ff\">InputLayer</span>)             │ (<span style=\"color: #00d7ff; text-decoration-color: #00d7ff\">None</span>, <span style=\"color: #00af00; text-decoration-color: #00af00\">1</span>)                   │               <span style=\"color: #00af00; text-decoration-color: #00af00\">0</span> │\n",
              "├──────────────────────────────────────┼─────────────────────────────┼─────────────────┤\n",
              "│ dense (<span style=\"color: #0087ff; text-decoration-color: #0087ff\">Dense</span>)                        │ (<span style=\"color: #00d7ff; text-decoration-color: #00d7ff\">None</span>, <span style=\"color: #00af00; text-decoration-color: #00af00\">32</span>)                  │              <span style=\"color: #00af00; text-decoration-color: #00af00\">64</span> │\n",
              "├──────────────────────────────────────┼─────────────────────────────┼─────────────────┤\n",
              "│ dense_1 (<span style=\"color: #0087ff; text-decoration-color: #0087ff\">Dense</span>)                      │ (<span style=\"color: #00d7ff; text-decoration-color: #00d7ff\">None</span>, <span style=\"color: #00af00; text-decoration-color: #00af00\">64</span>)                  │           <span style=\"color: #00af00; text-decoration-color: #00af00\">2,112</span> │\n",
              "├──────────────────────────────────────┼─────────────────────────────┼─────────────────┤\n",
              "│ dense_2 (<span style=\"color: #0087ff; text-decoration-color: #0087ff\">Dense</span>)                      │ (<span style=\"color: #00d7ff; text-decoration-color: #00d7ff\">None</span>, <span style=\"color: #00af00; text-decoration-color: #00af00\">128</span>)                 │           <span style=\"color: #00af00; text-decoration-color: #00af00\">8,320</span> │\n",
              "├──────────────────────────────────────┼─────────────────────────────┼─────────────────┤\n",
              "│ Output_Layer (<span style=\"color: #0087ff; text-decoration-color: #0087ff\">Dense</span>)                 │ (<span style=\"color: #00d7ff; text-decoration-color: #00d7ff\">None</span>, <span style=\"color: #00af00; text-decoration-color: #00af00\">1</span>)                   │             <span style=\"color: #00af00; text-decoration-color: #00af00\">129</span> │\n",
              "└──────────────────────────────────────┴─────────────────────────────┴─────────────────┘\n",
              "</pre>\n"
            ]
          },
          "metadata": {}
        },
        {
          "output_type": "display_data",
          "data": {
            "text/plain": [
              "\u001b[1m Total params: \u001b[0m\u001b[38;5;34m10,625\u001b[0m (41.50 KB)\n"
            ],
            "text/html": [
              "<pre style=\"white-space:pre;overflow-x:auto;line-height:normal;font-family:Menlo,'DejaVu Sans Mono',consolas,'Courier New',monospace\"><span style=\"font-weight: bold\"> Total params: </span><span style=\"color: #00af00; text-decoration-color: #00af00\">10,625</span> (41.50 KB)\n",
              "</pre>\n"
            ]
          },
          "metadata": {}
        },
        {
          "output_type": "display_data",
          "data": {
            "text/plain": [
              "\u001b[1m Trainable params: \u001b[0m\u001b[38;5;34m10,625\u001b[0m (41.50 KB)\n"
            ],
            "text/html": [
              "<pre style=\"white-space:pre;overflow-x:auto;line-height:normal;font-family:Menlo,'DejaVu Sans Mono',consolas,'Courier New',monospace\"><span style=\"font-weight: bold\"> Trainable params: </span><span style=\"color: #00af00; text-decoration-color: #00af00\">10,625</span> (41.50 KB)\n",
              "</pre>\n"
            ]
          },
          "metadata": {}
        },
        {
          "output_type": "display_data",
          "data": {
            "text/plain": [
              "\u001b[1m Non-trainable params: \u001b[0m\u001b[38;5;34m0\u001b[0m (0.00 B)\n"
            ],
            "text/html": [
              "<pre style=\"white-space:pre;overflow-x:auto;line-height:normal;font-family:Menlo,'DejaVu Sans Mono',consolas,'Courier New',monospace\"><span style=\"font-weight: bold\"> Non-trainable params: </span><span style=\"color: #00af00; text-decoration-color: #00af00\">0</span> (0.00 B)\n",
              "</pre>\n"
            ]
          },
          "metadata": {}
        },
        {
          "output_type": "stream",
          "name": "stdout",
          "text": [
            "Epoch 1/10\n",
            "\u001b[1m282/282\u001b[0m \u001b[32m━━━━━━━━━━━━━━━━━━━━\u001b[0m\u001b[37m\u001b[0m \u001b[1m2s\u001b[0m 2ms/step - accuracy: 0.8273 - loss: 0.0285 - val_accuracy: 0.9974 - val_loss: 3.8068e-04\n",
            "Epoch 2/10\n",
            "\u001b[1m282/282\u001b[0m \u001b[32m━━━━━━━━━━━━━━━━━━━━\u001b[0m\u001b[37m\u001b[0m \u001b[1m1s\u001b[0m 2ms/step - accuracy: 0.9988 - loss: 1.9073e-04 - val_accuracy: 0.9998 - val_loss: 3.2874e-05\n",
            "Epoch 3/10\n",
            "\u001b[1m282/282\u001b[0m \u001b[32m━━━━━━━━━━━━━━━━━━━━\u001b[0m\u001b[37m\u001b[0m \u001b[1m1s\u001b[0m 2ms/step - accuracy: 0.9998 - loss: 3.4069e-05 - val_accuracy: 0.9998 - val_loss: 2.3389e-05\n",
            "Epoch 4/10\n",
            "\u001b[1m282/282\u001b[0m \u001b[32m━━━━━━━━━━━━━━━━━━━━\u001b[0m\u001b[37m\u001b[0m \u001b[1m1s\u001b[0m 2ms/step - accuracy: 0.9999 - loss: 1.5334e-05 - val_accuracy: 1.0000 - val_loss: 4.9354e-06\n",
            "Epoch 5/10\n",
            "\u001b[1m282/282\u001b[0m \u001b[32m━━━━━━━━━━━━━━━━━━━━\u001b[0m\u001b[37m\u001b[0m \u001b[1m1s\u001b[0m 2ms/step - accuracy: 0.9999 - loss: 1.3092e-05 - val_accuracy: 0.9997 - val_loss: 3.9229e-05\n",
            "Epoch 6/10\n",
            "\u001b[1m282/282\u001b[0m \u001b[32m━━━━━━━━━━━━━━━━━━━━\u001b[0m\u001b[37m\u001b[0m \u001b[1m1s\u001b[0m 2ms/step - accuracy: 0.9999 - loss: 2.2061e-05 - val_accuracy: 0.9997 - val_loss: 3.7906e-05\n",
            "Epoch 7/10\n",
            "\u001b[1m282/282\u001b[0m \u001b[32m━━━━━━━━━━━━━━━━━━━━\u001b[0m\u001b[37m\u001b[0m \u001b[1m1s\u001b[0m 2ms/step - accuracy: 0.9999 - loss: 8.8227e-06 - val_accuracy: 1.0000 - val_loss: 2.6086e-06\n",
            "Epoch 8/10\n",
            "\u001b[1m282/282\u001b[0m \u001b[32m━━━━━━━━━━━━━━━━━━━━\u001b[0m\u001b[37m\u001b[0m \u001b[1m1s\u001b[0m 2ms/step - accuracy: 1.0000 - loss: 4.9307e-06 - val_accuracy: 0.9999 - val_loss: 1.6703e-05\n",
            "Epoch 9/10\n",
            "\u001b[1m282/282\u001b[0m \u001b[32m━━━━━━━━━━━━━━━━━━━━\u001b[0m\u001b[37m\u001b[0m \u001b[1m1s\u001b[0m 3ms/step - accuracy: 0.9998 - loss: 3.4504e-05 - val_accuracy: 0.9996 - val_loss: 5.3067e-05\n",
            "Epoch 10/10\n",
            "\u001b[1m282/282\u001b[0m \u001b[32m━━━━━━━━━━━━━━━━━━━━\u001b[0m\u001b[37m\u001b[0m \u001b[1m1s\u001b[0m 3ms/step - accuracy: 0.9995 - loss: 7.5361e-05 - val_accuracy: 0.9999 - val_loss: 1.0333e-05\n"
          ]
        }
      ]
    },
    {
      "cell_type": "code",
      "source": [
        "history"
      ],
      "metadata": {
        "colab": {
          "base_uri": "https://localhost:8080/"
        },
        "id": "gai7SNm4-2FQ",
        "outputId": "6f37af25-3327-4bb2-cd3e-8a7602416ff7"
      },
      "execution_count": null,
      "outputs": [
        {
          "output_type": "execute_result",
          "data": {
            "text/plain": [
              "{'accuracy': [0.9394720196723938,\n",
              "  0.9992720484733582,\n",
              "  0.9998472332954407,\n",
              "  0.9999327659606934,\n",
              "  0.9999180436134338,\n",
              "  0.9998775124549866,\n",
              "  0.9999472498893738,\n",
              "  0.9999300241470337,\n",
              "  0.9998238682746887,\n",
              "  0.9995396733283997],\n",
              " 'loss': [0.010123899206519127,\n",
              "  0.00012175756273791194,\n",
              "  2.5553545128786936e-05,\n",
              "  1.1241146239626687e-05,\n",
              "  1.370820973534137e-05,\n",
              "  2.0486628272919916e-05,\n",
              "  8.824290489428677e-06,\n",
              "  1.1699738934112247e-05,\n",
              "  2.9462420570780523e-05,\n",
              "  7.699066918576136e-05],\n",
              " 'val_accuracy': [0.9974427819252014,\n",
              "  0.9997791647911072,\n",
              "  0.9998428821563721,\n",
              "  0.9999668598175049,\n",
              "  0.999736487865448,\n",
              "  0.9997453689575195,\n",
              "  0.999982476234436,\n",
              "  0.9998878240585327,\n",
              "  0.9996435046195984,\n",
              "  0.9999305605888367],\n",
              " 'val_loss': [0.0003806769382208586,\n",
              "  3.287364597781561e-05,\n",
              "  2.3389191483147442e-05,\n",
              "  4.93544212076813e-06,\n",
              "  3.922911128029227e-05,\n",
              "  3.790594564634375e-05,\n",
              "  2.608604063425446e-06,\n",
              "  1.6702924767741933e-05,\n",
              "  5.306662933435291e-05,\n",
              "  1.0332766578358132e-05]}"
            ]
          },
          "metadata": {},
          "execution_count": 9
        }
      ]
    },
    {
      "cell_type": "markdown",
      "source": [
        "### Display the training accuracy vs validation accuracy and training error vs validation error curves."
      ],
      "metadata": {
        "id": "KL-5DDaT0_Zu"
      }
    },
    {
      "cell_type": "code",
      "source": [
        "plt.figure(figsize=(14,8))\n",
        "\n",
        "plt.subplot(2,2,1)\n",
        "plt.plot(history['accuracy'])\n",
        "plt.plot(history['val_accuracy'])\n",
        "plt.xlabel('Epochs')\n",
        "plt.ylabel('Accuracy')\n",
        "plt.legend(['Training_accuracy', 'Validation_accuracy'])\n",
        "\n",
        "plt.subplot(2,2,2)\n",
        "plt.plot(history['loss'])\n",
        "plt.plot(history['val_loss'])\n",
        "plt.xlabel('Epochs')\n",
        "plt.ylabel('Accuracy')\n",
        "plt.legend(['Training_loss', 'Validatoni_loss'])\n",
        "\n",
        "\n",
        "\n",
        "plt.tight_layout()\n",
        "plt.show()"
      ],
      "metadata": {
        "colab": {
          "base_uri": "https://localhost:8080/",
          "height": 436
        },
        "id": "t8n-3IvUBEDR",
        "outputId": "c090c35f-6963-406c-8d7d-907bc00ca2de"
      },
      "execution_count": null,
      "outputs": [
        {
          "output_type": "display_data",
          "data": {
            "text/plain": [
              "<Figure size 1400x800 with 2 Axes>"
            ],
            "image/png": "[encoded data removed]"
          },
          "metadata": {}
        }
      ]
    },
    {
      "cell_type": "code",
      "source": [
        "\n",
        "# Evaluate the Model\n",
        "test_loss, test_accuracy = model.evaluate(x_test, y_test)\n",
        "print(\"Test Loss:\", test_loss)\n",
        "print(\"Test Accuracy:\", test_accuracy)\n",
        "\n",
        "# Predict on test data\n",
        "predictions = model.predict(x_test)"
      ],
      "metadata": {
        "id": "savuG0UMzpwb",
        "colab": {
          "base_uri": "https://localhost:8080/"
        },
        "outputId": "fb422c82-4271-4f0f-894b-0a0f6abc2162"
      },
      "execution_count": null,
      "outputs": [
        {
          "output_type": "stream",
          "name": "stdout",
          "text": [
            "\u001b[1m16/16\u001b[0m \u001b[32m━━━━━━━━━━━━━━━━━━━━\u001b[0m\u001b[37m\u001b[0m \u001b[1m0s\u001b[0m 2ms/step - accuracy: 1.0000 - loss: 2.8469e-06 \n",
            "Test Loss: 2.9912123409303604e-06\n",
            "Test Accuracy: 0.9999825954437256\n",
            "\u001b[1m16/16\u001b[0m \u001b[32m━━━━━━━━━━━━━━━━━━━━\u001b[0m\u001b[37m\u001b[0m \u001b[1m0s\u001b[0m 4ms/step\n"
          ]
        }
      ]
    }
  ]
}